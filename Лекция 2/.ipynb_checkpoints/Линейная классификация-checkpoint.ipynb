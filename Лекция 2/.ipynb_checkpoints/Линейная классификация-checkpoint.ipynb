{
 "cells": [
  {
   "cell_type": "markdown",
   "metadata": {
    "slideshow": {
     "slide_type": "slide"
    }
   },
   "source": [
    "# <center>День 2. Линейные и метрические модели классификации\n",
    "## <center>Logit и  KNN"
   ]
  },
  {
   "cell_type": "code",
   "execution_count": 1,
   "metadata": {
    "slideshow": {
     "slide_type": "fragment"
    }
   },
   "outputs": [],
   "source": [
    "import warnings\n",
    "warnings.filterwarnings('ignore')\n",
    "from matplotlib import pyplot as plt\n",
    "import seaborn as sns\n",
    "import numpy as np\n",
    "import pandas as pd"
   ]
  },
  {
   "cell_type": "code",
   "execution_count": 2,
   "metadata": {},
   "outputs": [],
   "source": [
    "ser = pd.Series(np.random.choice(['yes', 'no'], size=20))"
   ]
  },
  {
   "cell_type": "code",
   "execution_count": 3,
   "metadata": {},
   "outputs": [
    {
     "data": {
      "text/plain": [
       "pandas.core.series.Series"
      ]
     },
     "execution_count": 3,
     "metadata": {},
     "output_type": "execute_result"
    }
   ],
   "source": [
    "type(ser)"
   ]
  },
  {
   "cell_type": "code",
   "execution_count": 4,
   "metadata": {},
   "outputs": [
    {
     "data": {
      "text/plain": [
       "0    yes\n",
       "1    yes\n",
       "2    yes\n",
       "3     no\n",
       "4     no\n",
       "dtype: object"
      ]
     },
     "execution_count": 4,
     "metadata": {},
     "output_type": "execute_result"
    }
   ],
   "source": [
    "ser.head()"
   ]
  },
  {
   "cell_type": "code",
   "execution_count": 5,
   "metadata": {},
   "outputs": [],
   "source": [
    "from sklearn.preprocessing import LabelEncoder\n",
    "encoder = LabelEncoder()"
   ]
  },
  {
   "cell_type": "code",
   "execution_count": 6,
   "metadata": {},
   "outputs": [],
   "source": [
    "ser = encoder.fit_transform(ser)"
   ]
  },
  {
   "cell_type": "code",
   "execution_count": 7,
   "metadata": {},
   "outputs": [
    {
     "data": {
      "text/plain": [
       "array([1, 1, 1, 0, 0, 0, 1, 0, 1, 1, 1, 1, 1, 0, 0, 0, 0, 1, 0, 1],\n",
       "      dtype=int64)"
      ]
     },
     "execution_count": 7,
     "metadata": {},
     "output_type": "execute_result"
    }
   ],
   "source": [
    "ser"
   ]
  },
  {
   "cell_type": "code",
   "execution_count": 8,
   "metadata": {},
   "outputs": [
    {
     "data": {
      "text/plain": [
       "array(['no', 'yes'], dtype=object)"
      ]
     },
     "execution_count": 8,
     "metadata": {},
     "output_type": "execute_result"
    }
   ],
   "source": [
    "encoder.classes_"
   ]
  },
  {
   "cell_type": "code",
   "execution_count": 9,
   "metadata": {},
   "outputs": [],
   "source": [
    "ser_3word = pd.Series(np.random.choice(['yes', 'no', 'dino'], size=20))"
   ]
  },
  {
   "cell_type": "code",
   "execution_count": 10,
   "metadata": {},
   "outputs": [
    {
     "data": {
      "text/plain": [
       "0      no\n",
       "1    dino\n",
       "2     yes\n",
       "3      no\n",
       "4      no\n",
       "dtype: object"
      ]
     },
     "execution_count": 10,
     "metadata": {},
     "output_type": "execute_result"
    }
   ],
   "source": [
    "ser_3word.head()"
   ]
  },
  {
   "cell_type": "code",
   "execution_count": 11,
   "metadata": {},
   "outputs": [
    {
     "data": {
      "text/plain": [
       "array([1, 0, 2, 1, 1, 0, 2, 2, 0, 1, 2, 1, 2, 1, 2, 0, 0, 1, 2, 2],\n",
       "      dtype=int64)"
      ]
     },
     "execution_count": 11,
     "metadata": {},
     "output_type": "execute_result"
    }
   ],
   "source": [
    "encoder.fit_transform(ser_3word)"
   ]
  },
  {
   "cell_type": "code",
   "execution_count": 12,
   "metadata": {},
   "outputs": [],
   "source": [
    "df_3word = pd.get_dummies(ser_3word)"
   ]
  },
  {
   "cell_type": "code",
   "execution_count": 13,
   "metadata": {},
   "outputs": [
    {
     "data": {
      "text/html": [
       "<div>\n",
       "<style scoped>\n",
       "    .dataframe tbody tr th:only-of-type {\n",
       "        vertical-align: middle;\n",
       "    }\n",
       "\n",
       "    .dataframe tbody tr th {\n",
       "        vertical-align: top;\n",
       "    }\n",
       "\n",
       "    .dataframe thead th {\n",
       "        text-align: right;\n",
       "    }\n",
       "</style>\n",
       "<table border=\"1\" class=\"dataframe\">\n",
       "  <thead>\n",
       "    <tr style=\"text-align: right;\">\n",
       "      <th></th>\n",
       "      <th>dino</th>\n",
       "      <th>no</th>\n",
       "      <th>yes</th>\n",
       "    </tr>\n",
       "  </thead>\n",
       "  <tbody>\n",
       "    <tr>\n",
       "      <th>0</th>\n",
       "      <td>0</td>\n",
       "      <td>1</td>\n",
       "      <td>0</td>\n",
       "    </tr>\n",
       "    <tr>\n",
       "      <th>1</th>\n",
       "      <td>1</td>\n",
       "      <td>0</td>\n",
       "      <td>0</td>\n",
       "    </tr>\n",
       "    <tr>\n",
       "      <th>2</th>\n",
       "      <td>0</td>\n",
       "      <td>0</td>\n",
       "      <td>1</td>\n",
       "    </tr>\n",
       "    <tr>\n",
       "      <th>3</th>\n",
       "      <td>0</td>\n",
       "      <td>1</td>\n",
       "      <td>0</td>\n",
       "    </tr>\n",
       "    <tr>\n",
       "      <th>4</th>\n",
       "      <td>0</td>\n",
       "      <td>1</td>\n",
       "      <td>0</td>\n",
       "    </tr>\n",
       "  </tbody>\n",
       "</table>\n",
       "</div>"
      ],
      "text/plain": [
       "   dino  no  yes\n",
       "0     0   1    0\n",
       "1     1   0    0\n",
       "2     0   0    1\n",
       "3     0   1    0\n",
       "4     0   1    0"
      ]
     },
     "execution_count": 13,
     "metadata": {},
     "output_type": "execute_result"
    }
   ],
   "source": [
    "df_3word.head()"
   ]
  },
  {
   "cell_type": "code",
   "execution_count": 14,
   "metadata": {},
   "outputs": [
    {
     "data": {
      "text/plain": [
       "0      no\n",
       "1    dino\n",
       "2     yes\n",
       "3      no\n",
       "4      no\n",
       "dtype: object"
      ]
     },
     "execution_count": 14,
     "metadata": {},
     "output_type": "execute_result"
    }
   ],
   "source": [
    "ser_3word.head()"
   ]
  },
  {
   "cell_type": "markdown",
   "metadata": {
    "slideshow": {
     "slide_type": "slide"
    }
   },
   "source": [
    "### <center>  Линейный классификатор\n",
    "\n",
    "\n",
    "<center> <img src=\"../img/logit.png\">"
   ]
  },
  {
   "cell_type": "markdown",
   "metadata": {
    "slideshow": {
     "slide_type": "slide"
    }
   },
   "source": [
    "## <center> Логистическая регрессия"
   ]
  },
  {
   "cell_type": "code",
   "execution_count": 15,
   "metadata": {
    "slideshow": {
     "slide_type": "slide"
    }
   },
   "outputs": [],
   "source": [
    "from sklearn.datasets import make_blobs"
   ]
  },
  {
   "cell_type": "code",
   "execution_count": 16,
   "metadata": {
    "slideshow": {
     "slide_type": "fragment"
    }
   },
   "outputs": [],
   "source": [
    "%matplotlib inline\n",
    "plt.style.use('seaborn')"
   ]
  },
  {
   "cell_type": "code",
   "execution_count": 17,
   "metadata": {
    "slideshow": {
     "slide_type": "fragment"
    }
   },
   "outputs": [],
   "source": [
    "X, y = make_blobs(400, centers=2, cluster_std=2, random_state=123)"
   ]
  },
  {
   "cell_type": "code",
   "execution_count": 18,
   "metadata": {},
   "outputs": [
    {
     "data": {
      "text/plain": [
       "array([[  4.54415215,  -5.49966398],\n",
       "       [ -4.43700523,   0.9724502 ],\n",
       "       [  4.43231208,  -5.66680973],\n",
       "       [  4.86626195,  -5.93952327],\n",
       "       [-11.03919669,  -2.14811747],\n",
       "       [  3.12655486,  -2.93023074],\n",
       "       [  3.64924627,  -6.00072309],\n",
       "       [  2.05771598,  -1.92555521],\n",
       "       [ -8.46988773,   0.56158059],\n",
       "       [  2.52069942,  -2.77599347],\n",
       "       [ -5.46672031,   2.29019195],\n",
       "       [ -6.98022778,  -1.37379117],\n",
       "       [ -5.93160838,  -1.93762153],\n",
       "       [ -0.57368626,  -5.45515439],\n",
       "       [ -7.63998804,   2.16330379],\n",
       "       [ -4.00590013,   0.82877577],\n",
       "       [ -6.98264111,  -0.28246679],\n",
       "       [ -6.34231534,   3.20273633],\n",
       "       [ -2.95204228,   2.97506779],\n",
       "       [  2.38396628,  -2.68748797],\n",
       "       [ -3.49002289,   3.0139088 ],\n",
       "       [  2.1963933 ,  -5.61082832],\n",
       "       [ -5.13105698,   4.23011068],\n",
       "       [  6.2297948 ,  -6.8119174 ],\n",
       "       [  3.72356248,  -4.84247007],\n",
       "       [-10.33989206,  -1.58806099],\n",
       "       [-10.725847  ,   3.54373799],\n",
       "       [  4.28848268,  -8.00116472],\n",
       "       [  5.84258757,  -7.11466513],\n",
       "       [ -5.48029186,   2.97992135],\n",
       "       [  3.37962862,  -7.10937781],\n",
       "       [  4.61465967,  -4.53008843],\n",
       "       [ -4.91750145,   1.8769671 ],\n",
       "       [ -6.40968087,   3.11801004],\n",
       "       [ -2.80170938,   1.45908852],\n",
       "       [  3.10186995,  -2.92528651],\n",
       "       [  3.59253085,  -3.78915942],\n",
       "       [  4.68818494,  -5.03556617],\n",
       "       [ -5.70645392,  -2.49950009],\n",
       "       [  6.97671126,  -6.46726622],\n",
       "       [ -3.31771144,  -0.62027495],\n",
       "       [ -4.6307233 ,   0.76069303],\n",
       "       [ -5.2711301 ,   2.62815467],\n",
       "       [ -5.95416626,   1.12251251],\n",
       "       [ -4.71992157,   0.70908497],\n",
       "       [  5.88685572,   0.19907338],\n",
       "       [  3.54415374,  -3.37894207],\n",
       "       [ -7.57708248,   3.66683202],\n",
       "       [  1.53278142,  -3.87816515],\n",
       "       [  5.21349309,  -8.23298916],\n",
       "       [-11.05191553,  -1.05191338],\n",
       "       [  7.8482064 ,  -8.32730483],\n",
       "       [  2.94743915,  -6.89554393],\n",
       "       [  5.93749151,  -3.5048405 ],\n",
       "       [ -4.29979132,   0.55746556],\n",
       "       [ -7.56340891,   2.16205552],\n",
       "       [  2.83154289,  -6.23332871],\n",
       "       [ -5.51309122,  -0.44623249],\n",
       "       [ -4.93250301,   0.28175192],\n",
       "       [  7.41680816,  -5.87333877],\n",
       "       [ -0.79884694,   1.71654386],\n",
       "       [ -6.66765089,   0.26683473],\n",
       "       [ -6.40803211,   3.46743321],\n",
       "       [ -5.39108992,   2.72650115],\n",
       "       [  4.8419255 ,  -1.1881244 ],\n",
       "       [  1.31781198,  -6.04287128],\n",
       "       [ -3.12206233,  -0.07549103],\n",
       "       [ -3.18165844,  -0.55003574],\n",
       "       [ -5.08488404,  -1.13734286],\n",
       "       [ -9.56776774,   2.22743757],\n",
       "       [ -5.42213341,  -0.13740504],\n",
       "       [  2.01422003,  -0.16427862],\n",
       "       [  1.84905795,  -0.83914394],\n",
       "       [  0.13903253,  -4.10175237],\n",
       "       [ -5.38607678,  -0.87070187],\n",
       "       [ -6.56747683,   0.90470717],\n",
       "       [  3.98866956,   1.64003759],\n",
       "       [ -6.84813716,   0.91136313],\n",
       "       [  1.48390979,  -5.063835  ],\n",
       "       [ -3.0228139 ,   0.19360481],\n",
       "       [  2.46445974,  -6.70225956],\n",
       "       [  1.83140036,  -4.42745448],\n",
       "       [ -5.34559605,   3.15514076],\n",
       "       [ -8.58503195,  -2.8248784 ],\n",
       "       [ -6.8139098 ,   0.43463725],\n",
       "       [ -4.90308379,   4.21813772],\n",
       "       [  3.98875017,  -2.13858136],\n",
       "       [ -3.57121696,   2.25243084],\n",
       "       [  5.20126912,  -3.70800724],\n",
       "       [ -5.14347354,  -2.29465476],\n",
       "       [  4.43701667,  -3.70976259],\n",
       "       [  6.96711496,  -4.98521353],\n",
       "       [ -5.39815642,   2.91866718],\n",
       "       [ -6.12522753,   4.03145719],\n",
       "       [  7.68098481,  -3.44582422],\n",
       "       [  2.40679522,  -4.26992299],\n",
       "       [  4.08783774,  -4.82600645],\n",
       "       [ -7.11295504,   0.51260466],\n",
       "       [  4.76851906,  -3.86335826],\n",
       "       [ -5.16310327,   2.12558057],\n",
       "       [ -7.97663855,   1.55027378],\n",
       "       [ -6.82262671,  -0.18372993],\n",
       "       [ -3.5999117 ,   1.79642759],\n",
       "       [  1.93474077,  -6.47729953],\n",
       "       [ -3.49690414,   0.68310337],\n",
       "       [ -6.26021878,   1.2472016 ],\n",
       "       [  1.27122605,  -3.72114588],\n",
       "       [  1.95577593,  -4.15863103],\n",
       "       [ -5.1400582 ,  -2.25249855],\n",
       "       [  3.2197348 ,  -3.49404482],\n",
       "       [ -2.28683516,   1.25158373],\n",
       "       [ -9.14703461,   3.22934735],\n",
       "       [  1.10560596,  -8.03095061],\n",
       "       [ -2.03089028,   3.64268251],\n",
       "       [ -2.99922735,  -1.78824175],\n",
       "       [  2.83147352,  -0.66527308],\n",
       "       [ -3.28390561,   0.88524855],\n",
       "       [  0.15239895,  -6.5338744 ],\n",
       "       [ -6.22980355,   4.72305528],\n",
       "       [ -4.08936212,   2.19783166],\n",
       "       [  5.33600395,  -5.47342396],\n",
       "       [ -4.99767161,   4.23948899],\n",
       "       [  1.28817855,  -5.6164505 ],\n",
       "       [  2.90869796,  -5.17275615],\n",
       "       [  4.1974373 ,  -2.86826515],\n",
       "       [  3.73897863,  -3.71984627],\n",
       "       [  3.24686028,  -4.71310583],\n",
       "       [ -8.26143867,   3.14168558],\n",
       "       [ -0.34327047,   1.09610051],\n",
       "       [ -4.58180633,   1.19148622],\n",
       "       [ -3.63759506,  -1.52084509],\n",
       "       [ -3.23616757,   1.31227544],\n",
       "       [ -5.60221713,   0.83498989],\n",
       "       [  1.89007357,  -3.94132871],\n",
       "       [  2.38421625,  -2.78757468],\n",
       "       [  8.71411424,  -3.45138898],\n",
       "       [  5.99434314,  -4.66589875],\n",
       "       [ -9.20376589,  -0.17116815],\n",
       "       [ -6.00732386,  -1.29396394],\n",
       "       [  4.42932359,  -6.225829  ],\n",
       "       [ -2.21855395,   0.03197509],\n",
       "       [  4.78167699,  -7.48803279],\n",
       "       [ -8.67333252,   1.27865674],\n",
       "       [ -5.79872538,   3.64333229],\n",
       "       [ -5.71034839,   2.80268446],\n",
       "       [ -6.11194541,   0.69229483],\n",
       "       [ -3.95890359,   1.16557688],\n",
       "       [  3.63865663,  -0.53976039],\n",
       "       [  2.25435027,  -7.48913882],\n",
       "       [ -8.2689491 ,  -0.2490889 ],\n",
       "       [ -6.84006799,  -1.14324216],\n",
       "       [  4.97582059,  -5.13059284],\n",
       "       [  3.25936219,  -2.21498438],\n",
       "       [  4.21423488,  -3.19475071],\n",
       "       [  6.72008957,  -4.99508515],\n",
       "       [  3.88013175,  -4.20892904],\n",
       "       [  2.44775617,  -4.13139881],\n",
       "       [ -6.92786869,   3.53993705],\n",
       "       [ -3.32665015,   1.71281134],\n",
       "       [ -7.43301809,   2.03766708],\n",
       "       [  3.07402452,  -1.7914742 ],\n",
       "       [ -5.48303623,  -0.66499348],\n",
       "       [ -5.8829184 ,   1.62788626],\n",
       "       [  0.72850265,  -2.76947574],\n",
       "       [  7.14676565,  -4.81767809],\n",
       "       [ -8.61786852,  -0.78688366],\n",
       "       [ -1.8926333 ,   1.64654042],\n",
       "       [  6.67936497,  -4.53810268],\n",
       "       [  2.41650929,  -3.63384015],\n",
       "       [ -6.94125548,   1.60072394],\n",
       "       [  5.08846694,  -3.11783374],\n",
       "       [ -3.08050601,   0.32977914],\n",
       "       [  6.25379181,  -6.47161939],\n",
       "       [  2.83209946,  -9.39132251],\n",
       "       [  1.18748677,  -4.94216385],\n",
       "       [ -3.11377045,   1.62798819],\n",
       "       [ -7.04715483,   2.37546504],\n",
       "       [  4.25047255,  -2.63769208],\n",
       "       [ -2.20390254,   1.15790795],\n",
       "       [  6.92067199,  -2.13842796],\n",
       "       [ -8.00646483,   2.52055221],\n",
       "       [  4.57453719,  -5.14554634],\n",
       "       [ -5.20419988,  -1.4987921 ],\n",
       "       [  4.28376837,  -4.33714932],\n",
       "       [ -3.89809012,   0.71357593],\n",
       "       [  3.14614409,  -3.99725709],\n",
       "       [  3.17788389,  -7.03666326],\n",
       "       [  5.11079215,  -4.04661586],\n",
       "       [ -1.60330606,   1.40926003],\n",
       "       [  5.40412086,  -1.29574924],\n",
       "       [ -6.71102063,   4.63516803],\n",
       "       [  8.10361043,  -3.94833084],\n",
       "       [  6.99756429,  -5.3370415 ],\n",
       "       [  4.80113525,  -4.91512728],\n",
       "       [  3.73201432,  -4.70717939],\n",
       "       [  4.02036387,  -4.74339742],\n",
       "       [ -6.8979426 ,  -0.91881727],\n",
       "       [ -7.10372197,  -0.2190316 ],\n",
       "       [  5.84104842,  -6.03244047],\n",
       "       [  5.04248112,  -4.70137355],\n",
       "       [  6.60958112,  -7.41572556],\n",
       "       [ -3.70013709,   2.80118002],\n",
       "       [ -5.5416296 ,   3.9241026 ],\n",
       "       [  5.71079649,  -0.76744094],\n",
       "       [ -6.64362076,   0.33036671],\n",
       "       [  4.17087844,  -2.78078207],\n",
       "       [ -3.54121078,   4.59500897],\n",
       "       [ -0.31681699,  -2.19775912],\n",
       "       [ -7.3894783 ,   0.53105262],\n",
       "       [ -5.51788768,   0.83011222],\n",
       "       [  2.12936657,  -6.13921731],\n",
       "       [ -6.97137525,  -1.49724464],\n",
       "       [  5.55406637,  -3.27773301],\n",
       "       [ -6.25528277,   0.94965295],\n",
       "       [  4.68322394,  -6.5146045 ],\n",
       "       [  4.60656181,  -4.30087429],\n",
       "       [  1.42162238,  -5.55271631],\n",
       "       [  6.46125623,  -6.01069411],\n",
       "       [  7.41746589,  -6.21270209],\n",
       "       [  1.50261415,  -6.93018887],\n",
       "       [ -2.41208246,  -0.81389084],\n",
       "       [ -3.51470606,   1.34688282],\n",
       "       [  3.43897703,  -5.00049316],\n",
       "       [ -3.91927766,  -1.2596087 ],\n",
       "       [  6.19168752,  -4.00705796],\n",
       "       [ -5.27466516,   0.5592874 ],\n",
       "       [ -5.92477903,   8.16945382],\n",
       "       [ -6.35975421,   1.85193291],\n",
       "       [ -3.64004971,  -1.72269838],\n",
       "       [  1.45467729,  -4.02910151],\n",
       "       [  6.36735544,  -3.43685411],\n",
       "       [  3.68648636,  -5.44428673],\n",
       "       [ -4.26120591,  -1.23698647],\n",
       "       [  3.91712379,  -4.59570372],\n",
       "       [ -3.85100671,   2.93195711],\n",
       "       [  5.95486182,  -3.71973159],\n",
       "       [  4.11630537,  -1.35803476],\n",
       "       [  8.33078791,  -2.90061944],\n",
       "       [  2.4589498 ,  -3.27471532],\n",
       "       [ -4.83980792,   0.74219393],\n",
       "       [ -5.48077658,   2.18188329],\n",
       "       [  1.42700397,  -6.64586798],\n",
       "       [  4.29145397,  -1.92148942],\n",
       "       [ -2.41526689,  -0.3401565 ],\n",
       "       [  4.73555563,  -1.33335456],\n",
       "       [ -5.80245856,   4.31066093],\n",
       "       [ -5.85744367,  -3.05789745],\n",
       "       [ -3.19968191,  -0.08051328],\n",
       "       [  5.26069059,  -6.07405918],\n",
       "       [  5.19035977,  -8.58220019],\n",
       "       [  1.41804634,  -5.38108705],\n",
       "       [  3.29986742,  -6.4490181 ],\n",
       "       [  6.28120526,  -2.91707024],\n",
       "       [  1.76024789,  -7.00415639],\n",
       "       [  0.3863175 ,  -5.67696777],\n",
       "       [ -4.67881484,   2.5210813 ],\n",
       "       [  2.17031103,  -3.70995865],\n",
       "       [ -6.11600622,   1.23441685],\n",
       "       [  2.31865068,  -7.73255229],\n",
       "       [  2.97113782,  -3.55711184],\n",
       "       [ -5.12552639,   1.57697911],\n",
       "       [  6.68389868,  -4.56356525],\n",
       "       [ -4.74056481,   3.19269299],\n",
       "       [  3.43207201,  -5.6165076 ],\n",
       "       [ -5.56857389,   0.71788476],\n",
       "       [ -4.29233487,  -1.26875544],\n",
       "       [  3.28166414,  -4.65380702],\n",
       "       [  2.89197601,  -4.4020104 ],\n",
       "       [ -2.23620786,   1.78813825],\n",
       "       [  2.57161141,  -4.46663124],\n",
       "       [ -8.22367358,   4.42241337],\n",
       "       [  3.86200525,  -3.91771017],\n",
       "       [  5.72150034,  -3.53797413],\n",
       "       [ -6.37582284,  -0.46399906],\n",
       "       [ -8.86596312,   0.54916535],\n",
       "       [ -8.61543662,   0.77117106],\n",
       "       [ -4.08012584,   4.91261572],\n",
       "       [ -4.85539507,   1.5138269 ],\n",
       "       [  3.23720364,  -4.05840699],\n",
       "       [  3.91676921,  -4.69053791],\n",
       "       [ -0.96161887,  -0.11562079],\n",
       "       [  3.04141979,  -5.14591585],\n",
       "       [ -3.43436316,  -2.39168817],\n",
       "       [ -3.71304627,   1.73083855],\n",
       "       [ -7.75744521,   4.06662827],\n",
       "       [  2.2825209 ,  -4.01678339],\n",
       "       [ -6.72420771,  -1.76245484],\n",
       "       [  7.65523888,  -2.60709581],\n",
       "       [  3.45004615,  -3.99059784],\n",
       "       [  3.39079673,  -4.49891474],\n",
       "       [ -1.60126919,   0.21460863],\n",
       "       [ -1.54478022,  -1.14105998],\n",
       "       [  6.7639818 ,  -2.66274023],\n",
       "       [  7.25128869,  -2.66259693],\n",
       "       [  3.41814497,  -9.87439151],\n",
       "       [-10.31264358,   3.2388287 ],\n",
       "       [  5.41475615,  -4.43837975],\n",
       "       [  6.43985846,  -5.65495127],\n",
       "       [  4.5579277 ,  -6.92974422],\n",
       "       [ -5.03379878,   0.22197591],\n",
       "       [  5.35391298,   0.91939455],\n",
       "       [  6.746122  ,  -5.49463491],\n",
       "       [  0.38184101,  -5.09223849],\n",
       "       [ -7.69305084,  -1.8750709 ],\n",
       "       [  3.90217594,  -2.90481193],\n",
       "       [ -5.21425366,   4.06024274],\n",
       "       [  5.78430858,  -4.62448467],\n",
       "       [ -8.52399672,   3.17522566],\n",
       "       [  4.87807831,  -5.40506116],\n",
       "       [  3.97001571,  -4.66514104],\n",
       "       [ -5.76155281,   4.99982146],\n",
       "       [ -8.96511163,  -0.30541855],\n",
       "       [  5.9096495 ,  -4.98472197],\n",
       "       [ -5.67631991,   1.47881868],\n",
       "       [ -7.77980275,   1.27932839],\n",
       "       [  4.32342158, -10.73932332],\n",
       "       [ -5.99386218,   2.88546432],\n",
       "       [ -5.70200849,   2.98013851],\n",
       "       [ -6.03146513,   0.94021183],\n",
       "       [  3.34637029,  -3.78645449],\n",
       "       [ -3.68113743,   2.14020046],\n",
       "       [ -4.28559982,   3.69267679],\n",
       "       [ -0.92397477,  -5.13503856],\n",
       "       [  3.93507554,  -2.90076788],\n",
       "       [ -5.3866383 ,   2.28293559],\n",
       "       [  6.45863429,  -7.1176393 ],\n",
       "       [ -4.11567306,   4.01120616],\n",
       "       [ -4.86038996,   1.3361191 ],\n",
       "       [ -6.78607222,  -0.83312789],\n",
       "       [ -9.93580563,  -1.16225146],\n",
       "       [  2.19851917,  -7.02658924],\n",
       "       [ -4.69723045,   1.67722264],\n",
       "       [ -8.67184373,   4.28453779],\n",
       "       [  2.61108109,  -3.0549662 ],\n",
       "       [ -6.78209111,   2.52818458],\n",
       "       [ -5.06165091,  -0.68010765],\n",
       "       [  5.7435941 ,  -7.1345747 ],\n",
       "       [ -6.52294866,  -3.85985619],\n",
       "       [  5.50903978,  -6.2922309 ],\n",
       "       [ -2.94132839,   3.70120303],\n",
       "       [  0.89316776,  -5.19958813],\n",
       "       [ -3.37830019,  -3.18356148],\n",
       "       [ -6.63620283,   1.33487548],\n",
       "       [  3.12265164,  -4.52927247],\n",
       "       [  5.4512825 ,  -3.63027561],\n",
       "       [ -6.51905203,   0.74892949],\n",
       "       [  1.77985053,  -2.94057957],\n",
       "       [ -9.70756869,  -0.42593267],\n",
       "       [ -4.26262046,   4.99546018],\n",
       "       [ -9.80178685,   0.95508441],\n",
       "       [ -5.96504584,   2.57198617],\n",
       "       [  0.99915127,  -3.55032218],\n",
       "       [ -6.55710222,   1.02614433],\n",
       "       [  2.77218321,  -0.97434023],\n",
       "       [ -4.96701116,   2.66067194],\n",
       "       [  3.75633914,  -6.10782744],\n",
       "       [  3.14758412,  -3.12960158],\n",
       "       [ -7.44352031,  -0.04259903],\n",
       "       [ -8.18298628,   2.57429539],\n",
       "       [ -3.65435849,   3.42627068],\n",
       "       [  4.51113249,  -3.71788796],\n",
       "       [  4.32854793,  -4.52944885],\n",
       "       [ -5.35735958,  -2.21520858],\n",
       "       [  2.29404711,  -6.96992842],\n",
       "       [  2.59117846,  -1.05282722],\n",
       "       [  1.91944941,  -2.99677594],\n",
       "       [  6.91216296,  -5.55501729],\n",
       "       [ -4.63524477,   1.12097914],\n",
       "       [  0.41858002,  -4.97442833],\n",
       "       [ -7.30426401,   1.36276407],\n",
       "       [ -9.83714279,   1.12030027],\n",
       "       [ -7.6961006 ,  -0.0722118 ],\n",
       "       [  5.11752422,  -4.67543807],\n",
       "       [  3.21956605,  -5.64228961],\n",
       "       [ -3.14683318,  -0.33923406],\n",
       "       [ -8.40892615,   1.03835404],\n",
       "       [ -3.33854199,   3.08705404],\n",
       "       [  1.34121307,  -6.35478972],\n",
       "       [  6.463981  ,  -3.61168335],\n",
       "       [ -4.5314308 ,  -1.80949359],\n",
       "       [ -5.9115965 ,   1.9900439 ],\n",
       "       [ -5.2293147 ,   0.41074674],\n",
       "       [ -4.39594929,   0.19505663],\n",
       "       [ -2.16533521,   4.45723257],\n",
       "       [  0.62198803,  -1.77054141],\n",
       "       [  2.56448184,  -7.66131813],\n",
       "       [ -3.71481131,   1.84500543],\n",
       "       [  5.4594934 ,  -5.93519097],\n",
       "       [ -5.70530454,  -2.99087556],\n",
       "       [  3.43575216,  -4.13963664],\n",
       "       [  3.64135702,  -1.64400211],\n",
       "       [ -3.68743879,  -1.32224522],\n",
       "       [  5.03709604,  -5.33856242],\n",
       "       [ -6.65868109,   0.70964111],\n",
       "       [  5.70736955,  -1.95507659],\n",
       "       [  5.80508431,  -4.99053942],\n",
       "       [  8.34124388,   0.09635888],\n",
       "       [  3.37781168,  -5.38142944],\n",
       "       [  0.08195225,  -2.88563866],\n",
       "       [  1.50484579,  -2.89565876]])"
      ]
     },
     "execution_count": 18,
     "metadata": {},
     "output_type": "execute_result"
    }
   ],
   "source": [
    "X"
   ]
  },
  {
   "cell_type": "code",
   "execution_count": 19,
   "metadata": {},
   "outputs": [
    {
     "data": {
      "text/plain": [
       "array([0, 1, 0, 0, 1, 0, 0, 0, 1, 0, 1, 1, 1, 0, 1, 1, 1, 1, 1, 0, 1, 0,\n",
       "       1, 0, 0, 1, 1, 0, 0, 1, 0, 0, 1, 1, 1, 0, 0, 0, 1, 0, 1, 1, 1, 1,\n",
       "       1, 0, 0, 1, 0, 0, 1, 0, 0, 0, 1, 1, 0, 1, 1, 0, 1, 1, 1, 1, 0, 0,\n",
       "       1, 1, 1, 1, 1, 0, 0, 0, 1, 1, 0, 1, 0, 1, 0, 0, 1, 1, 1, 1, 0, 1,\n",
       "       0, 1, 0, 0, 1, 1, 0, 0, 0, 1, 0, 1, 1, 1, 1, 0, 1, 1, 0, 0, 1, 0,\n",
       "       1, 1, 0, 1, 1, 0, 1, 0, 1, 1, 0, 1, 0, 0, 0, 0, 0, 1, 1, 1, 1, 1,\n",
       "       1, 0, 0, 0, 0, 1, 1, 0, 1, 0, 1, 1, 1, 1, 1, 0, 0, 1, 1, 0, 0, 0,\n",
       "       0, 0, 0, 1, 1, 1, 0, 1, 1, 0, 0, 1, 1, 0, 0, 1, 0, 1, 0, 0, 0, 1,\n",
       "       1, 0, 1, 0, 1, 0, 1, 0, 1, 0, 0, 0, 1, 0, 1, 0, 0, 0, 0, 0, 1, 1,\n",
       "       0, 0, 0, 1, 1, 0, 1, 0, 1, 0, 1, 1, 0, 1, 0, 1, 0, 0, 0, 0, 0, 0,\n",
       "       1, 1, 0, 1, 0, 1, 1, 1, 1, 0, 0, 0, 1, 0, 1, 0, 0, 0, 0, 1, 1, 0,\n",
       "       0, 1, 0, 1, 1, 1, 0, 0, 0, 0, 0, 0, 0, 1, 0, 1, 0, 0, 1, 0, 1, 0,\n",
       "       1, 1, 0, 0, 1, 0, 1, 0, 0, 1, 1, 1, 1, 1, 0, 0, 1, 0, 1, 1, 1, 0,\n",
       "       1, 0, 0, 0, 1, 1, 0, 0, 0, 1, 0, 0, 0, 1, 0, 0, 0, 1, 0, 1, 0, 1,\n",
       "       0, 0, 1, 1, 0, 1, 1, 0, 1, 1, 1, 0, 1, 1, 0, 0, 1, 0, 1, 1, 1, 1,\n",
       "       0, 1, 1, 0, 1, 1, 0, 1, 0, 1, 0, 1, 1, 0, 0, 1, 0, 1, 1, 1, 1, 0,\n",
       "       1, 0, 1, 0, 0, 1, 1, 1, 0, 0, 1, 0, 0, 0, 0, 1, 0, 1, 1, 1, 0, 0,\n",
       "       1, 1, 1, 0, 0, 1, 1, 1, 1, 1, 0, 0, 1, 0, 1, 0, 0, 1, 0, 1, 0, 0,\n",
       "       0, 0, 0, 0])"
      ]
     },
     "execution_count": 19,
     "metadata": {},
     "output_type": "execute_result"
    }
   ],
   "source": [
    "y"
   ]
  },
  {
   "cell_type": "code",
   "execution_count": 20,
   "metadata": {
    "slideshow": {
     "slide_type": "fragment"
    }
   },
   "outputs": [
    {
     "data": {
      "image/png": "[encoded data removed]",
      "text/plain": [
       "<Figure size 576x396 with 1 Axes>"
      ]
     },
     "metadata": {},
     "output_type": "display_data"
    }
   ],
   "source": [
    "plt.scatter(X[:, 0], X[:, 1], c=y, cmap='viridis');"
   ]
  },
  {
   "cell_type": "code",
   "execution_count": 21,
   "metadata": {
    "slideshow": {
     "slide_type": "slide"
    }
   },
   "outputs": [],
   "source": [
    "from sklearn.linear_model import LogisticRegression"
   ]
  },
  {
   "cell_type": "code",
   "execution_count": 22,
   "metadata": {
    "slideshow": {
     "slide_type": "fragment"
    }
   },
   "outputs": [],
   "source": [
    "logit = LogisticRegression()"
   ]
  },
  {
   "cell_type": "code",
   "execution_count": 23,
   "metadata": {
    "slideshow": {
     "slide_type": "fragment"
    }
   },
   "outputs": [
    {
     "data": {
      "text/plain": [
       "LogisticRegression(C=1.0, class_weight=None, dual=False, fit_intercept=True,\n",
       "          intercept_scaling=1, max_iter=100, multi_class='ovr', n_jobs=1,\n",
       "          penalty='l2', random_state=None, solver='liblinear', tol=0.0001,\n",
       "          verbose=0, warm_start=False)"
      ]
     },
     "execution_count": 23,
     "metadata": {},
     "output_type": "execute_result"
    }
   ],
   "source": [
    "logit.fit(X, y)"
   ]
  },
  {
   "cell_type": "code",
   "execution_count": 24,
   "metadata": {
    "slideshow": {
     "slide_type": "fragment"
    }
   },
   "outputs": [
    {
     "data": {
      "text/plain": [
       "array([[-1.68946388,  1.00095754]])"
      ]
     },
     "execution_count": 24,
     "metadata": {},
     "output_type": "execute_result"
    }
   ],
   "source": [
    "logit.coef_"
   ]
  },
  {
   "cell_type": "code",
   "execution_count": 25,
   "metadata": {
    "slideshow": {
     "slide_type": "fragment"
    }
   },
   "outputs": [
    {
     "data": {
      "text/plain": [
       "array([0.23408669])"
      ]
     },
     "execution_count": 25,
     "metadata": {},
     "output_type": "execute_result"
    }
   ],
   "source": [
    "logit.intercept_"
   ]
  },
  {
   "cell_type": "code",
   "execution_count": 26,
   "metadata": {
    "slideshow": {
     "slide_type": "fragment"
    }
   },
   "outputs": [],
   "source": [
    "line = lambda x: (-x * coef[0] - intercept) / coef[1]"
   ]
  },
  {
   "cell_type": "code",
   "execution_count": 27,
   "metadata": {
    "slideshow": {
     "slide_type": "slide"
    }
   },
   "outputs": [
    {
     "data": {
      "image/png": "[encoded data removed]",
      "text/plain": [
       "<Figure size 576x396 with 1 Axes>"
      ]
     },
     "metadata": {},
     "output_type": "display_data"
    }
   ],
   "source": [
    "plt.scatter(X[:, 0], X[:, 1], c=y, cmap='Dark2');\n",
    "xmin, xmax = plt.xlim()\n",
    "ymin, ymax = plt.ylim()\n",
    "coef = logit.coef_[0]\n",
    "intercept = logit.intercept_\n",
    "plt.plot([xmin, xmax], [line(xmin), line(xmax)], label='Decision Function line')\n",
    "plt.legend(loc='best')\n",
    "plt.ylim(ymin, ymax);"
   ]
  },
  {
   "cell_type": "markdown",
   "metadata": {
    "slideshow": {
     "slide_type": "slide"
    }
   },
   "source": [
    "# Нарисуем график Сигмоиды"
   ]
  },
  {
   "cell_type": "code",
   "execution_count": 28,
   "metadata": {
    "slideshow": {
     "slide_type": "slide"
    }
   },
   "outputs": [],
   "source": [
    "sigmoid = lambda x:  1 / (1 + np.exp(-x))"
   ]
  },
  {
   "cell_type": "code",
   "execution_count": 29,
   "metadata": {
    "slideshow": {
     "slide_type": "fragment"
    }
   },
   "outputs": [],
   "source": [
    "x_array = np.linspace(-10, 10, 1000)\n",
    "y_array = sigmoid(x_array)"
   ]
  },
  {
   "cell_type": "code",
   "execution_count": 30,
   "metadata": {
    "scrolled": false,
    "slideshow": {
     "slide_type": "fragment"
    }
   },
   "outputs": [
    {
     "data": {
      "image/png": "[encoded data removed]",
      "text/plain": [
       "<Figure size 1080x720 with 1 Axes>"
      ]
     },
     "metadata": {},
     "output_type": "display_data"
    }
   ],
   "source": [
    "fig = plt.figure(figsize=(15, 10))\n",
    "plt.plot(x_array, y_array);\n",
    "plt.xlabel('z');\n",
    "plt.title('Sigmoid function');"
   ]
  },
  {
   "cell_type": "markdown",
   "metadata": {
    "slideshow": {
     "slide_type": "slide"
    }
   },
   "source": [
    "Если  обозначим \"+1\" метки целевого класса (положительные примеры) и \"-1\" (отрицательные примеры). <br>\n",
    "Один из самых простых классификаторов: \n",
    "$$\\Large y(\\textbf{x}) = \\text{sign}(\\textbf{w}^{\\text{T}}\\textbf x),$$\n",
    "\n",
    "где\n",
    " - $\\textbf{x}$ – вектор признаков примера (вместе с единицей);\n",
    " - $\\textbf{w}$ – веса в линейной модели (вместе со смещением $w_0$);\n",
    " - $\\text{sign}(\\bullet)$ – функция \"сигнум\", возвращающая знак своего аргумента;\n",
    " - $y(\\textbf{x})$ – ответ классификатора на примере $\\textbf{x}$."
   ]
  },
  {
   "cell_type": "code",
   "execution_count": 31,
   "metadata": {
    "slideshow": {
     "slide_type": "subslide"
    }
   },
   "outputs": [],
   "source": [
    "X = np.arange(0, 10, 0.5)\n",
    "w = np.random.randn(20)"
   ]
  },
  {
   "cell_type": "code",
   "execution_count": 32,
   "metadata": {
    "slideshow": {
     "slide_type": "fragment"
    }
   },
   "outputs": [
    {
     "data": {
      "text/plain": [
       "array([0. , 0.5, 1. , 1.5, 2. , 2.5, 3. , 3.5, 4. , 4.5, 5. , 5.5, 6. ,\n",
       "       6.5, 7. , 7.5, 8. , 8.5, 9. , 9.5])"
      ]
     },
     "execution_count": 32,
     "metadata": {},
     "output_type": "execute_result"
    }
   ],
   "source": [
    "X"
   ]
  },
  {
   "cell_type": "code",
   "execution_count": 33,
   "metadata": {},
   "outputs": [
    {
     "data": {
      "text/plain": [
       "(20,)"
      ]
     },
     "execution_count": 33,
     "metadata": {},
     "output_type": "execute_result"
    }
   ],
   "source": [
    "X.shape"
   ]
  },
  {
   "cell_type": "code",
   "execution_count": 34,
   "metadata": {
    "scrolled": true,
    "slideshow": {
     "slide_type": "fragment"
    }
   },
   "outputs": [
    {
     "data": {
      "text/plain": [
       "array([ 0.01754   ,  1.01227552, -1.13486865, -1.00233748, -1.23680939,\n",
       "       -1.35726409,  0.32291536, -0.23614094,  1.16754242, -0.50994225,\n",
       "       -0.09180488,  0.67601283, -0.3845159 ,  1.16720144,  0.04104254,\n",
       "       -0.76236622,  0.4660325 ,  1.14044862, -2.37743567,  0.34658432])"
      ]
     },
     "execution_count": 34,
     "metadata": {},
     "output_type": "execute_result"
    }
   ],
   "source": [
    "w"
   ]
  },
  {
   "cell_type": "code",
   "execution_count": 35,
   "metadata": {
    "slideshow": {
     "slide_type": "fragment"
    }
   },
   "outputs": [],
   "source": [
    "z = w.transpose().dot(X)"
   ]
  },
  {
   "cell_type": "code",
   "execution_count": 36,
   "metadata": {},
   "outputs": [
    {
     "data": {
      "text/plain": [
       "-7.055319222905586"
      ]
     },
     "execution_count": 36,
     "metadata": {},
     "output_type": "execute_result"
    }
   ],
   "source": [
    "z"
   ]
  },
  {
   "cell_type": "markdown",
   "metadata": {
    "slideshow": {
     "slide_type": "subslide"
    }
   },
   "source": [
    "<center>  <img src='../img/ifflogit.jpg' width=30%>"
   ]
  },
  {
   "cell_type": "markdown",
   "metadata": {
    "slideshow": {
     "slide_type": "slide"
    }
   },
   "source": [
    "<center> Логистическая регрессия обладает хорошим \"умением\" – прогнозировать вероятность\n",
    "$$\\Large p_+ = \\text P\\left(y_i = 1 \\mid \\textbf{x}_\\text{i}, \\textbf{w}\\right) $$"
   ]
  },
  {
   "cell_type": "markdown",
   "metadata": {
    "slideshow": {
     "slide_type": "slide"
    }
   },
   "source": [
    "<center> Хотим оценивать $p_+ \\in [0,1]$, от OLS: $b(\\textbf{x}) = \\textbf{w}^\\text{T} \\textbf{x} \\in \\mathbb{R}$. <br>\n",
    " $$f: \\mathbb{R} \\rightarrow [0,1]$$ <br> \n",
    " $$\\sigma(z) = \\frac{1}{1 + \\exp^{-z}}$$ <br>\n",
    "  <center> где $z = \\textbf{w}^\\text{T} \\textbf{x}$"
   ]
  },
  {
   "cell_type": "code",
   "execution_count": 37,
   "metadata": {
    "slideshow": {
     "slide_type": "fragment"
    }
   },
   "outputs": [
    {
     "data": {
      "text/plain": [
       "0.0008620634706500757"
      ]
     },
     "execution_count": 37,
     "metadata": {},
     "output_type": "execute_result"
    }
   ],
   "source": [
    "sigmoid(z)"
   ]
  },
  {
   "cell_type": "markdown",
   "metadata": {},
   "source": [
    "Представим что z очень маленький"
   ]
  },
  {
   "cell_type": "code",
   "execution_count": 38,
   "metadata": {},
   "outputs": [
    {
     "data": {
      "text/plain": [
       "0.5024999791668749"
      ]
     },
     "execution_count": 38,
     "metadata": {},
     "output_type": "execute_result"
    }
   ],
   "source": [
    "sigmoid(0.01)"
   ]
  },
  {
   "cell_type": "code",
   "execution_count": 39,
   "metadata": {},
   "outputs": [
    {
     "data": {
      "text/plain": [
       "0.389360766050778"
      ]
     },
     "execution_count": 39,
     "metadata": {},
     "output_type": "execute_result"
    }
   ],
   "source": [
    "sigmoid(-0.45)"
   ]
  },
  {
   "cell_type": "code",
   "execution_count": 40,
   "metadata": {},
   "outputs": [],
   "source": [
    "sigmoids = sigmoid(np.logspace(-5, 10, 100))"
   ]
  },
  {
   "cell_type": "code",
   "execution_count": 41,
   "metadata": {},
   "outputs": [
    {
     "data": {
      "image/png": "[encoded data removed]",
      "text/plain": [
       "<Figure size 576x396 with 1 Axes>"
      ]
     },
     "metadata": {},
     "output_type": "display_data"
    }
   ],
   "source": [
    "plt.plot(np.logspace(-5, 10, 100), sigmoids);"
   ]
  },
  {
   "cell_type": "markdown",
   "metadata": {
    "slideshow": {
     "slide_type": "slide"
    }
   },
   "source": [
    "### Maximum Likelihood Estimation"
   ]
  },
  {
   "cell_type": "markdown",
   "metadata": {
    "slideshow": {
     "slide_type": "subslide"
    }
   },
   "source": [
    "Теперь посмотрим, как из принципа максимального правдоподобия получается оптимизационная задача, которую решает логистическая регрессия, а именно, – минимизация *логистической* функции потерь. \n",
    "Вероятность отнесения примера к классу \"+\" как \n",
    "\n",
    "$$\\Large p_+(\\textbf{x}_\\text{i}) = \\text{P}\\left(y_i = 1 \\mid \\textbf{x}_\\text{i}, \\textbf{w}\\right) = \\sigma(\\textbf{w}^\\text{T}\\textbf{x}_\\text{i})$$\n",
    "\n",
    "Тогда для класса \"-\" аналогичная вероятность:\n",
    "$$\\Large p_-(\\textbf{x}_\\text{i})  = \\text{P}\\left(y_i = -1 \\mid \\textbf{x}_\\text{i}, \\textbf{w}\\right)  = 1 - \\sigma(\\textbf{w}^\\text{T}\\textbf{x}_\\text{i}) = \\sigma(-\\textbf{w}^\\text{T}\\textbf{x}_\\text{i}) $$\n",
    "\n",
    "Оба этих выражения можно объединить в одно:\n",
    "\n",
    "$$\\Large \\text{P}\\left(y = y_i \\mid \\textbf{x}_\\text{i}, \\textbf{w}\\right) = \\sigma(y_i\\textbf{w}^\\text{T}\\textbf{x}_\\text{i})$$"
   ]
  },
  {
   "cell_type": "markdown",
   "metadata": {
    "slideshow": {
     "slide_type": "subslide"
    }
   },
   "source": [
    "$$\\Large X_i \\textbf{~} iid$$\n",
    "\n",
    "$$\\Large \\text{P}\\left(\\textbf{y} \\mid \\textbf X, \\textbf{w}\\right) = \\prod_{i=1}^{\\ell} \\text{P}\\left(y = y_i \\mid \\textbf{x}_\\text{i}, \\textbf{w}\\right),$$\n",
    "\n",
    "где $\\ell$ – длина выборки $\\textbf X$ (число строк)."
   ]
  },
  {
   "cell_type": "markdown",
   "metadata": {
    "slideshow": {
     "slide_type": "subslide"
    }
   },
   "source": [
    "Как водится, возьмем логарифм данного выражения (сумму оптимизировать намного проще, чем произведение):\n",
    "\n",
    "$$\\Large  \\log \\text{P}\\left(\\textbf{y} \\mid \\textbf X, \\textbf{w}\\right) = \\log \\sum_{i=1}^{\\ell} \\text{P}\\left(y = y_i \\mid \\textbf{x}_\\text{i}, \\textbf{w}\\right) = \\log \\prod_{i=1}^{\\ell} \\sigma(y_i\\textbf{w}^{\\text{T}}\\textbf{x}_\\text{i})   = $$\n",
    "\n",
    "$$\\Large  = \\sum_{i=1}^{\\ell} \\log \\sigma(y_i\\textbf{w}^{\\text{T}}\\textbf{x}_\\text{i}) = \\sum_{i=1}^{\\ell} \\log \\frac{1}{1 + \\exp^{-y_i\\textbf{w}^{\\text{T}}\\textbf{x}_\\text{i}}} = - \\sum_{i=1}^{\\ell} \\log (1 + \\exp^{-y_i\\textbf{w}^{\\text{T}}\\textbf{x}_\\text{i}})$$"
   ]
  },
  {
   "cell_type": "markdown",
   "metadata": {
    "slideshow": {
     "slide_type": "subslide"
    }
   },
   "source": [
    "То есть в данном случае принцип максимизации правдоподобия приводит к минимизации выражения \n",
    "\n",
    "$$\\Large \\mathcal{L_{log}} (\\textbf X, \\textbf{y}, \\textbf{w}) = \\sum_{i=1}^{\\ell} \\log (1 + \\exp^{-y_i\\textbf{w}^{\\text{T}}\\textbf{x}_\\text{i}}).$$"
   ]
  },
  {
   "cell_type": "code",
   "execution_count": 42,
   "metadata": {},
   "outputs": [],
   "source": [
    "zets = np.linspace(0, 1, 100)\n",
    "weights = np.random.randn(100)\n",
    "y = np.random.randint(0, 2, 100)"
   ]
  },
  {
   "cell_type": "code",
   "execution_count": 43,
   "metadata": {},
   "outputs": [],
   "source": [
    "margin = y * weights.dot(zets)"
   ]
  },
  {
   "cell_type": "code",
   "execution_count": 44,
   "metadata": {},
   "outputs": [],
   "source": [
    "margin = np.linspace(-2, 5, 100)"
   ]
  },
  {
   "cell_type": "code",
   "execution_count": 45,
   "metadata": {},
   "outputs": [
    {
     "data": {
      "image/png": "[encoded data removed]",
      "text/plain": [
       "<Figure size 576x396 with 1 Axes>"
      ]
     },
     "metadata": {},
     "output_type": "display_data"
    }
   ],
   "source": [
    "plt.plot(margin, np.log(1 + np.exp(-margin)), label='Loss')\n",
    "plt.legend(loc='best');"
   ]
  },
  {
   "cell_type": "code",
   "execution_count": 46,
   "metadata": {},
   "outputs": [],
   "source": [
    "from sklearn.datasets import load_breast_cancer"
   ]
  },
  {
   "cell_type": "code",
   "execution_count": 47,
   "metadata": {},
   "outputs": [],
   "source": [
    "data = load_breast_cancer()"
   ]
  },
  {
   "cell_type": "code",
   "execution_count": 48,
   "metadata": {},
   "outputs": [
    {
     "data": {
      "text/plain": [
       "dict_keys(['data', 'target', 'target_names', 'DESCR', 'feature_names'])"
      ]
     },
     "execution_count": 48,
     "metadata": {},
     "output_type": "execute_result"
    }
   ],
   "source": [
    "data.keys()"
   ]
  },
  {
   "cell_type": "code",
   "execution_count": 49,
   "metadata": {
    "scrolled": true
   },
   "outputs": [
    {
     "name": "stdout",
     "output_type": "stream",
     "text": [
      "Breast Cancer Wisconsin (Diagnostic) Database\n",
      "=============================================\n",
      "\n",
      "Notes\n",
      "-----\n",
      "Data Set Characteristics:\n",
      "    :Number of Instances: 569\n",
      "\n",
      "    :Number of Attributes: 30 numeric, predictive attributes and the class\n",
      "\n",
      "    :Attribute Information:\n",
      "        - radius (mean of distances from center to points on the perimeter)\n",
      "        - texture (standard deviation of gray-scale values)\n",
      "        - perimeter\n",
      "        - area\n",
      "        - smoothness (local variation in radius lengths)\n",
      "        - compactness (perimeter^2 / area - 1.0)\n",
      "        - concavity (severity of concave portions of the contour)\n",
      "        - concave points (number of concave portions of the contour)\n",
      "        - symmetry \n",
      "        - fractal dimension (\"coastline approximation\" - 1)\n",
      "\n",
      "        The mean, standard error, and \"worst\" or largest (mean of the three\n",
      "        largest values) of these features were computed for each image,\n",
      "        resulting in 30 features.  For instance, field 3 is Mean Radius, field\n",
      "        13 is Radius SE, field 23 is Worst Radius.\n",
      "\n",
      "        - class:\n",
      "                - WDBC-Malignant\n",
      "                - WDBC-Benign\n",
      "\n",
      "    :Summary Statistics:\n",
      "\n",
      "    ===================================== ====== ======\n",
      "                                           Min    Max\n",
      "    ===================================== ====== ======\n",
      "    radius (mean):                        6.981  28.11\n",
      "    texture (mean):                       9.71   39.28\n",
      "    perimeter (mean):                     43.79  188.5\n",
      "    area (mean):                          143.5  2501.0\n",
      "    smoothness (mean):                    0.053  0.163\n",
      "    compactness (mean):                   0.019  0.345\n",
      "    concavity (mean):                     0.0    0.427\n",
      "    concave points (mean):                0.0    0.201\n",
      "    symmetry (mean):                      0.106  0.304\n",
      "    fractal dimension (mean):             0.05   0.097\n",
      "    radius (standard error):              0.112  2.873\n",
      "    texture (standard error):             0.36   4.885\n",
      "    perimeter (standard error):           0.757  21.98\n",
      "    area (standard error):                6.802  542.2\n",
      "    smoothness (standard error):          0.002  0.031\n",
      "    compactness (standard error):         0.002  0.135\n",
      "    concavity (standard error):           0.0    0.396\n",
      "    concave points (standard error):      0.0    0.053\n",
      "    symmetry (standard error):            0.008  0.079\n",
      "    fractal dimension (standard error):   0.001  0.03\n",
      "    radius (worst):                       7.93   36.04\n",
      "    texture (worst):                      12.02  49.54\n",
      "    perimeter (worst):                    50.41  251.2\n",
      "    area (worst):                         185.2  4254.0\n",
      "    smoothness (worst):                   0.071  0.223\n",
      "    compactness (worst):                  0.027  1.058\n",
      "    concavity (worst):                    0.0    1.252\n",
      "    concave points (worst):               0.0    0.291\n",
      "    symmetry (worst):                     0.156  0.664\n",
      "    fractal dimension (worst):            0.055  0.208\n",
      "    ===================================== ====== ======\n",
      "\n",
      "    :Missing Attribute Values: None\n",
      "\n",
      "    :Class Distribution: 212 - Malignant, 357 - Benign\n",
      "\n",
      "    :Creator:  Dr. William H. Wolberg, W. Nick Street, Olvi L. Mangasarian\n",
      "\n",
      "    :Donor: Nick Street\n",
      "\n",
      "    :Date: November, 1995\n",
      "\n",
      "This is a copy of UCI ML Breast Cancer Wisconsin (Diagnostic) datasets.\n",
      "https://goo.gl/U2Uwz2\n",
      "\n",
      "Features are computed from a digitized image of a fine needle\n",
      "aspirate (FNA) of a breast mass.  They describe\n",
      "characteristics of the cell nuclei present in the image.\n",
      "\n",
      "Separating plane described above was obtained using\n",
      "Multisurface Method-Tree (MSM-T) [K. P. Bennett, \"Decision Tree\n",
      "Construction Via Linear Programming.\" Proceedings of the 4th\n",
      "Midwest Artificial Intelligence and Cognitive Science Society,\n",
      "pp. 97-101, 1992], a classification method which uses linear\n",
      "programming to construct a decision tree.  Relevant features\n",
      "were selected using an exhaustive search in the space of 1-4\n",
      "features and 1-3 separating planes.\n",
      "\n",
      "The actual linear program used to obtain the separating plane\n",
      "in the 3-dimensional space is that described in:\n",
      "[K. P. Bennett and O. L. Mangasarian: \"Robust Linear\n",
      "Programming Discrimination of Two Linearly Inseparable Sets\",\n",
      "Optimization Methods and Software 1, 1992, 23-34].\n",
      "\n",
      "This database is also available through the UW CS ftp server:\n",
      "\n",
      "ftp ftp.cs.wisc.edu\n",
      "cd math-prog/cpo-dataset/machine-learn/WDBC/\n",
      "\n",
      "References\n",
      "----------\n",
      "   - W.N. Street, W.H. Wolberg and O.L. Mangasarian. Nuclear feature extraction \n",
      "     for breast tumor diagnosis. IS&T/SPIE 1993 International Symposium on \n",
      "     Electronic Imaging: Science and Technology, volume 1905, pages 861-870,\n",
      "     San Jose, CA, 1993.\n",
      "   - O.L. Mangasarian, W.N. Street and W.H. Wolberg. Breast cancer diagnosis and \n",
      "     prognosis via linear programming. Operations Research, 43(4), pages 570-577, \n",
      "     July-August 1995.\n",
      "   - W.H. Wolberg, W.N. Street, and O.L. Mangasarian. Machine learning techniques\n",
      "     to diagnose breast cancer from fine-needle aspirates. Cancer Letters 77 (1994) \n",
      "     163-171.\n",
      "\n"
     ]
    }
   ],
   "source": [
    "print(data['DESCR'])"
   ]
  },
  {
   "cell_type": "code",
   "execution_count": 50,
   "metadata": {},
   "outputs": [],
   "source": [
    "df = pd.DataFrame(data['data'], columns=data['feature_names'])"
   ]
  },
  {
   "cell_type": "code",
   "execution_count": 51,
   "metadata": {},
   "outputs": [],
   "source": [
    "df['target'] = data['target']"
   ]
  },
  {
   "cell_type": "markdown",
   "metadata": {
    "slideshow": {
     "slide_type": "slide"
    }
   },
   "source": [
    "### <center> How groupby works?"
   ]
  },
  {
   "cell_type": "markdown",
   "metadata": {
    "slideshow": {
     "slide_type": "subslide"
    }
   },
   "source": [
    "<center>  <img src='../img/groupby.jpg' width=30%>"
   ]
  },
  {
   "cell_type": "code",
   "execution_count": 52,
   "metadata": {},
   "outputs": [
    {
     "data": {
      "text/html": [
       "<div>\n",
       "<style scoped>\n",
       "    .dataframe tbody tr th:only-of-type {\n",
       "        vertical-align: middle;\n",
       "    }\n",
       "\n",
       "    .dataframe tbody tr th {\n",
       "        vertical-align: top;\n",
       "    }\n",
       "\n",
       "    .dataframe thead th {\n",
       "        text-align: right;\n",
       "    }\n",
       "</style>\n",
       "<table border=\"1\" class=\"dataframe\">\n",
       "  <thead>\n",
       "    <tr style=\"text-align: right;\">\n",
       "      <th>target</th>\n",
       "      <th>0</th>\n",
       "      <th>1</th>\n",
       "    </tr>\n",
       "  </thead>\n",
       "  <tbody>\n",
       "    <tr>\n",
       "      <th>mean radius</th>\n",
       "      <td>17.462830</td>\n",
       "      <td>12.146524</td>\n",
       "    </tr>\n",
       "    <tr>\n",
       "      <th>mean texture</th>\n",
       "      <td>21.604906</td>\n",
       "      <td>17.914762</td>\n",
       "    </tr>\n",
       "    <tr>\n",
       "      <th>mean perimeter</th>\n",
       "      <td>115.365377</td>\n",
       "      <td>78.075406</td>\n",
       "    </tr>\n",
       "    <tr>\n",
       "      <th>mean area</th>\n",
       "      <td>978.376415</td>\n",
       "      <td>462.790196</td>\n",
       "    </tr>\n",
       "    <tr>\n",
       "      <th>mean smoothness</th>\n",
       "      <td>0.102898</td>\n",
       "      <td>0.092478</td>\n",
       "    </tr>\n",
       "  </tbody>\n",
       "</table>\n",
       "</div>"
      ],
      "text/plain": [
       "target                    0           1\n",
       "mean radius       17.462830   12.146524\n",
       "mean texture      21.604906   17.914762\n",
       "mean perimeter   115.365377   78.075406\n",
       "mean area        978.376415  462.790196\n",
       "mean smoothness    0.102898    0.092478"
      ]
     },
     "execution_count": 52,
     "metadata": {},
     "output_type": "execute_result"
    }
   ],
   "source": [
    "df.groupby('target').mean().T.head(5)"
   ]
  },
  {
   "cell_type": "markdown",
   "metadata": {
    "slideshow": {
     "slide_type": "slide"
    }
   },
   "source": [
    "# <Center> CROSS VALIDATION"
   ]
  },
  {
   "cell_type": "markdown",
   "metadata": {
    "slideshow": {
     "slide_type": "subslide"
    }
   },
   "source": [
    "<center>  <img src='../img/validation.PNG' >"
   ]
  },
  {
   "cell_type": "markdown",
   "metadata": {
    "slideshow": {
     "slide_type": "subslide"
    }
   },
   "source": [
    "<center>  <img src='../img/cv.png' >"
   ]
  },
  {
   "cell_type": "code",
   "execution_count": 53,
   "metadata": {},
   "outputs": [],
   "source": [
    "from sklearn.model_selection import validation_curve"
   ]
  },
  {
   "cell_type": "code",
   "execution_count": 54,
   "metadata": {},
   "outputs": [],
   "source": [
    "c_range = np.linspace(0.05, 100, 100)"
   ]
  },
  {
   "cell_type": "code",
   "execution_count": 55,
   "metadata": {},
   "outputs": [],
   "source": [
    "train_sc, test_sc =  validation_curve(LogisticRegression(), df.drop('target', axis=1), df['target'], \n",
    "                 param_name='C', param_range=c_range)"
   ]
  },
  {
   "cell_type": "code",
   "execution_count": 56,
   "metadata": {},
   "outputs": [
    {
     "data": {
      "image/png": "[encoded data removed]",
      "text/plain": [
       "<Figure size 576x396 with 1 Axes>"
      ]
     },
     "metadata": {},
     "output_type": "display_data"
    }
   ],
   "source": [
    "plt.plot(c_range, test_sc.mean(1));"
   ]
  },
  {
   "cell_type": "markdown",
   "metadata": {
    "slideshow": {
     "slide_type": "slide"
    }
   },
   "source": [
    "### MNIST digits"
   ]
  },
  {
   "cell_type": "code",
   "execution_count": 57,
   "metadata": {
    "slideshow": {
     "slide_type": "slide"
    }
   },
   "outputs": [],
   "source": [
    "from sklearn.datasets import load_digits\n",
    "from sklearn.preprocessing import StandardScaler\n",
    "from sklearn.model_selection import GridSearchCV\n",
    "from sklearn.pipeline import make_pipeline"
   ]
  },
  {
   "cell_type": "code",
   "execution_count": 58,
   "metadata": {
    "slideshow": {
     "slide_type": "fragment"
    }
   },
   "outputs": [],
   "source": [
    "digits = load_digits()"
   ]
  },
  {
   "cell_type": "code",
   "execution_count": 59,
   "metadata": {
    "slideshow": {
     "slide_type": "slide"
    }
   },
   "outputs": [
    {
     "name": "stdout",
     "output_type": "stream",
     "text": [
      "Optical Recognition of Handwritten Digits Data Set\n",
      "===================================================\n",
      "\n",
      "Notes\n",
      "-----\n",
      "Data Set Characteristics:\n",
      "    :Number of Instances: 5620\n",
      "    :Number of Attributes: 64\n",
      "    :Attribute Information: 8x8 image of integer pixels in the range 0..16.\n",
      "    :Missing Attribute Values: None\n",
      "    :Creator: E. Alpaydin (alpaydin '@' boun.edu.tr)\n",
      "    :Date: July; 1998\n",
      "\n",
      "This is a copy of the test set of the UCI ML hand-written digits datasets\n",
      "http://archive.ics.uci.edu/ml/datasets/Optical+Recognition+of+Handwritten+Digits\n",
      "\n",
      "The data set contains images of hand-written digits: 10 classes where\n",
      "each class refers to a digit.\n",
      "\n",
      "Preprocessing programs made available by NIST were used to extract\n",
      "normalized bitmaps of handwritten digits from a preprinted form. From a\n",
      "total of 43 people, 30 contributed to the training set and different 13\n",
      "to the test set. 32x32 bitmaps are divided into nonoverlapping blocks of\n",
      "4x4 and the number of on pixels are counted in each block. This generates\n",
      "an input matrix of 8x8 where each element is an integer in the range\n",
      "0..16. This reduces dimensionality and gives invariance to small\n",
      "distortions.\n",
      "\n",
      "For info on NIST preprocessing routines, see M. D. Garris, J. L. Blue, G.\n",
      "T. Candela, D. L. Dimmick, J. Geist, P. J. Grother, S. A. Janet, and C.\n",
      "L. Wilson, NIST Form-Based Handprint Recognition System, NISTIR 5469,\n",
      "1994.\n",
      "\n",
      "References\n",
      "----------\n",
      "  - C. Kaynak (1995) Methods of Combining Multiple Classifiers and Their\n",
      "    Applications to Handwritten Digit Recognition, MSc Thesis, Institute of\n",
      "    Graduate Studies in Science and Engineering, Bogazici University.\n",
      "  - E. Alpaydin, C. Kaynak (1998) Cascading Classifiers, Kybernetika.\n",
      "  - Ken Tang and Ponnuthurai N. Suganthan and Xi Yao and A. Kai Qin.\n",
      "    Linear dimensionalityreduction using relevance weighted LDA. School of\n",
      "    Electrical and Electronic Engineering Nanyang Technological University.\n",
      "    2005.\n",
      "  - Claudio Gentile. A New Approximate Maximal Margin Classification\n",
      "    Algorithm. NIPS. 2000.\n",
      "\n"
     ]
    }
   ],
   "source": [
    "print(digits['DESCR'])"
   ]
  },
  {
   "cell_type": "code",
   "execution_count": 60,
   "metadata": {
    "slideshow": {
     "slide_type": "slide"
    }
   },
   "outputs": [
    {
     "data": {
      "text/plain": [
       "dict_keys(['data', 'target', 'target_names', 'images', 'DESCR'])"
      ]
     },
     "execution_count": 60,
     "metadata": {},
     "output_type": "execute_result"
    }
   ],
   "source": [
    "digits.keys()"
   ]
  },
  {
   "cell_type": "code",
   "execution_count": 61,
   "metadata": {
    "slideshow": {
     "slide_type": "fragment"
    }
   },
   "outputs": [],
   "source": [
    "X, y = digits.data, digits.target"
   ]
  },
  {
   "cell_type": "code",
   "execution_count": 62,
   "metadata": {
    "slideshow": {
     "slide_type": "slide"
    }
   },
   "outputs": [],
   "source": [
    "params = {'C': np.linspace(0.01, 10, 20), 'penalty': ['l1', 'l2']}"
   ]
  },
  {
   "cell_type": "code",
   "execution_count": 63,
   "metadata": {
    "slideshow": {
     "slide_type": "fragment"
    }
   },
   "outputs": [],
   "source": [
    "logit = LogisticRegression()\n",
    "scaler = StandardScaler()\n",
    "grid = GridSearchCV(logit, param_grid=params, n_jobs=-1)"
   ]
  },
  {
   "cell_type": "code",
   "execution_count": 64,
   "metadata": {
    "slideshow": {
     "slide_type": "fragment"
    }
   },
   "outputs": [],
   "source": [
    "pipeline_grid = make_pipeline(scaler, grid)"
   ]
  },
  {
   "cell_type": "code",
   "execution_count": null,
   "metadata": {
    "scrolled": true,
    "slideshow": {
     "slide_type": "slide"
    }
   },
   "outputs": [],
   "source": [
    "%%time\n",
    "pipeline_grid.fit(X, y)"
   ]
  },
  {
   "cell_type": "code",
   "execution_count": null,
   "metadata": {
    "slideshow": {
     "slide_type": "fragment"
    }
   },
   "outputs": [],
   "source": [
    "pipeline_grid.steps[1][1].best_params_['C']"
   ]
  },
  {
   "cell_type": "code",
   "execution_count": null,
   "metadata": {
    "slideshow": {
     "slide_type": "skip"
    }
   },
   "outputs": [],
   "source": [
    "pipeline_grid.steps[1][1].best_score_"
   ]
  },
  {
   "cell_type": "code",
   "execution_count": null,
   "metadata": {
    "slideshow": {
     "slide_type": "slide"
    }
   },
   "outputs": [],
   "source": [
    "coef = pipeline_grid.steps[1][1].best_estimator_.coef_[0].ravel()"
   ]
  },
  {
   "cell_type": "code",
   "execution_count": null,
   "metadata": {
    "slideshow": {
     "slide_type": "fragment"
    }
   },
   "outputs": [],
   "source": [
    "fig, ax = plt.subplots(figsize=(8, 8))\n",
    "ax.imshow(np.abs(coef.reshape(8, 8)), interpolation='nearest',\n",
    "               cmap='binary', vmax=1, vmin=0)\n",
    "ax.set_xticks(())\n",
    "ax.set_yticks(());"
   ]
  },
  {
   "cell_type": "markdown",
   "metadata": {
    "slideshow": {
     "slide_type": "slide"
    }
   },
   "source": [
    "### L2-регуляризация логистической функции потерь\n",
    "\n",
    "$$\\Large J(\\textbf X, \\textbf{y}, \\textbf{w}) = \\mathcal{L_{\\log}} (\\textbf X, \\textbf{y}, \\textbf{w}) + \\lambda |\\textbf{w}|^2$$\n",
    "\n",
    "В случае логистической регрессии принято введение обратного коэффициента регуляризации $C = \\frac{1}{\\lambda}$. И тогда решением задачи будет\n",
    "\n",
    "$$\\Large \\widehat{\\textbf{w}}  = \\arg \\min_{\\textbf{w}} J(\\textbf X, \\textbf{y}, \\textbf{w}) =  \\arg \\min_{\\textbf{w}}\\ (C\\sum_{i=1}^{\\ell} \\log (1 + \\exp^{-y_i\\textbf{w}^{\\text{T}}\\textbf{x}_\\text{i}})+ |\\textbf{w}|^2)$$ \n"
   ]
  },
  {
   "cell_type": "markdown",
   "metadata": {
    "slideshow": {
     "slide_type": "slide"
    }
   },
   "source": [
    "# <center> Мультиклассовая классификация"
   ]
  },
  {
   "cell_type": "markdown",
   "metadata": {},
   "source": [
    "<center> <img src = '../img/one_class vs multi_class.png' width=50%>"
   ]
  }
 ],
 "metadata": {
  "anaconda-cloud": {},
  "celltoolbar": "Slideshow",
  "kernelspec": {
   "display_name": "Python 3",
   "language": "python",
   "name": "python3"
  },
  "language_info": {
   "codemirror_mode": {
    "name": "ipython",
    "version": 3
   },
   "file_extension": ".py",
   "mimetype": "text/x-python",
   "name": "python",
   "nbconvert_exporter": "python",
   "pygments_lexer": "ipython3",
   "version": "3.6.5"
  }
 },
 "nbformat": 4,
 "nbformat_minor": 1
}

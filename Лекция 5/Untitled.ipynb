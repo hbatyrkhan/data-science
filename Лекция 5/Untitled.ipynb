{
 "cells": [
  {
   "cell_type": "code",
   "execution_count": 1,
   "metadata": {},
   "outputs": [],
   "source": [
    "import numpy as np"
   ]
  },
  {
   "cell_type": "code",
   "execution_count": 22,
   "metadata": {},
   "outputs": [],
   "source": [
    "a = np.array([0.17, -1.33, -5.5])\n",
    "b = np.array([[1, 2, 3], [0, 1, 1], [4, 5, 2]])\n",
    "y = np.array([-5, -1, 18])\n",
    "h = list()\n",
    "for i in range(3):\n",
    "    h.append(a.dot(b[i, :].T))\n",
    "\n",
    "h = np.array(h)"
   ]
  },
  {
   "cell_type": "code",
   "execution_count": 27,
   "metadata": {},
   "outputs": [
    {
     "data": {
      "text/plain": [
       "51.50833333333333"
      ]
     },
     "execution_count": 27,
     "metadata": {},
     "output_type": "execute_result"
    }
   ],
   "source": [
    "-5.5 - 0.5* (h-y[2]).dot(b[2, :]) / 3."
   ]
  },
  {
   "cell_type": "code",
   "execution_count": 8,
   "metadata": {},
   "outputs": [
    {
     "data": {
      "text/plain": [
       "171.85"
      ]
     },
     "execution_count": 8,
     "metadata": {},
     "output_type": "execute_result"
    }
   ],
   "source": [
    "h = a.dot(b[2, :].T)\n",
    "h"
   ]
  },
  {
   "cell_type": "code",
   "execution_count": 67,
   "metadata": {},
   "outputs": [],
   "source": [
    "def h(o, x):\n",
    "    return o.dot(x.T)\n",
    "\n",
    "def get_hs(o, x):\n",
    "    hs = list()\n",
    "    for i in range(3):\n",
    "        hs.append(o.dot(x[i, :]))\n",
    "        \n",
    "    return hs\n",
    "\n",
    "def th_iter(o, x, k=3):\n",
    "    for j in range(k):\n",
    "        hs = get_hs(a, b)\n",
    "        for i in range(3):\n",
    "            s = 0\n",
    "            dif = (hs - y)\n",
    "            a[i] = (a[i] - (np.sum(dif*b[:, i])/6))\n",
    "    print(a)"
   ]
  },
  {
   "cell_type": "code",
   "execution_count": 77,
   "metadata": {},
   "outputs": [
    {
     "name": "stdout",
     "output_type": "stream",
     "text": [
      "[5.35246839e+08 7.34145406e+08 4.35942676e+08]\n"
     ]
    }
   ],
   "source": [
    "a = np.array([1, 2, 1]).astype(np.float64)\n",
    "b = np.array([[1, 2, 3], [0, 1, 1], [4, 5, 2]])\n",
    "y = np.array([-5, -1, 18])\n",
    "\n",
    "th_iter(a, b, k=10)"
   ]
  },
  {
   "cell_type": "code",
   "execution_count": null,
   "metadata": {},
   "outputs": [],
   "source": []
  }
 ],
 "metadata": {
  "kernelspec": {
   "display_name": "Python 3",
   "language": "python",
   "name": "python3"
  },
  "language_info": {
   "codemirror_mode": {
    "name": "ipython",
    "version": 3
   },
   "file_extension": ".py",
   "mimetype": "text/x-python",
   "name": "python",
   "nbconvert_exporter": "python",
   "pygments_lexer": "ipython3",
   "version": "3.6.5"
  }
 },
 "nbformat": 4,
 "nbformat_minor": 2
}
